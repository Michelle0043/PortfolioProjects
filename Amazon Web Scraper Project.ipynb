{
 "cells": [
  {
   "cell_type": "code",
   "execution_count": null,
   "id": "e7e3c70f",
   "metadata": {},
   "outputs": [],
   "source": [
    "# Import Library bs4 - used for parsing and extracting data from HTML and XML files.\n",
    "from bs4 import BeautifulSoup\n",
    "import requests\n",
    "import smtplib\n",
    "import time\n",
    "import datetime\n",
    "import json\n",
    "import re"
   ]
  },
  {
   "cell_type": "code",
   "execution_count": null,
   "id": "bf151ca8",
   "metadata": {},
   "outputs": [],
   "source": [
    "#Connect to the Amazon Website - note that to look for canonical website link rather than the long messy urlfor scraping the data\n",
    "\n",
    "URL = 'https://www.amazon.com/dp/0596007973'\n",
    "\n",
    "headers = {\n",
    "    \"User-Agent\": \"Mozilla/5.0 (Windows NT 10.0; Win64; x64) AppleWebKit/537.36 (KHTML, like Gecko) Chrome/139.0.0.0 Safari/537.36\",\n",
    "    \"Accept-Encoding\": \"gzip, deflate, br, zstd\",\n",
    "    \"Accept\": \"text/html,application/xhtml+xml,application/xml;q=0.9,image/avif,image/webp,image/apng,*/*;q=0.8,application/signed-exchange;v=b3;q=0.7\",\n",
    "    \"DNT\":\"1\",\n",
    "    \"Connection\":\"close\",\n",
    "    \"Upgrade-Insecure-Requests\":\"1\"\n",
    "}\n",
    "\n",
    "page = requests.get(URL, headers = headers)"
   ]
  },
  {
   "cell_type": "code",
   "execution_count": null,
   "id": "0324f15b",
   "metadata": {},
   "outputs": [],
   "source": [
    "from typing import Optional\n",
    "\n",
    "def extract_title(soup: BeautifulSoup) -> Optional[str]:\n",
    "    tag = soup.select_one(\"#productTitle\")\n",
    "    if tag:\n",
    "        return tag.get_text(strip=True)\n",
    "\n",
    "    tag = soup.select_one(\"h1#title span\")\n",
    "    if tag:\n",
    "        return tag.get_text(strip=True)\n",
    "\n",
    "    og = soup.find(\"meta\", property=\"og:title\")\n",
    "    if og and og.get(\"content\"):\n",
    "        return og[\"content\"].strip()\n",
    "\n",
    "    return None\n"
   ]
  },
  {
   "cell_type": "code",
   "execution_count": null,
   "id": "8e2de47b",
   "metadata": {},
   "outputs": [],
   "source": [
    "#Use the Soup library to ull in all html info from the amazon page\n",
    "\n",
    "soup1 = BeautifulSoup(page.content,\"html.parser\")\n",
    "\n",
    "print(soup1)"
   ]
  },
  {
   "cell_type": "code",
   "execution_count": null,
   "id": "7a0b5f3e",
   "metadata": {},
   "outputs": [],
   "source": [
    "#Use prettify to make the data a bit formatted\n",
    "soup2 = BeautifulSoup(soup1.prettify(),\"html.parser\")\n",
    "\n",
    "print(soup2)"
   ]
  },
  {
   "cell_type": "code",
   "execution_count": null,
   "id": "65403bcc",
   "metadata": {},
   "outputs": [],
   "source": [
    "#Specify the items we want from the webpage\n",
    "title = soup2.find(id = 'productTitle').get_text()\n",
    "price = soup2.select_one(\"span.a-size-base.a-color-price\").get_text(strip=True)\n",
    "\n",
    "print(title)\n",
    "print(price)"
   ]
  },
  {
   "cell_type": "code",
   "execution_count": null,
   "id": "db274f1e",
   "metadata": {},
   "outputs": [],
   "source": [
    "#Clean the data further, to remove the space and also take the digit after $\n",
    "price = price.strip()[1:]\n",
    "title = title.strip()\n",
    "\n",
    "print(title)\n",
    "print(price)\n",
    "type(price)"
   ]
  },
  {
   "cell_type": "code",
   "execution_count": null,
   "id": "590d7154",
   "metadata": {},
   "outputs": [],
   "source": [
    "#Create time stamp of when the data is pulled\n",
    "import datetime\n",
    "today = datetime.date.today()\n",
    "\n",
    "print(today)"
   ]
  },
  {
   "cell_type": "code",
   "execution_count": null,
   "id": "68c69b2e",
   "metadata": {},
   "outputs": [],
   "source": [
    "#Insert the data into csv. file mode w is the write mode, \n",
    "import csv\n",
    "\n",
    "header = ['Title', 'Price','Date']\n",
    "data = [title, price, today]\n",
    "\n",
    "type(data)\n",
    "\n",
    "with open('AmazonWebScraperDataset.csv', 'w', newline='', encoding='UTF8') as f:\n",
    "    writer = csv.writer(f)\n",
    "    writer.writerow(header)\n",
    "    writer.writerow(data)\n",
    "    "
   ]
  },
  {
   "cell_type": "code",
   "execution_count": null,
   "id": "96f032c3",
   "metadata": {},
   "outputs": [],
   "source": [
    "#Append data to csv, use \"a+\" as the method\n",
    "\n",
    "with open('AmazonWebScraperDataset.csv', 'a+', newline='', encoding='UTF8') as f:\n",
    "    writer = csv.writer(f)\n",
    "    writer.writerow(data)"
   ]
  },
  {
   "cell_type": "code",
   "execution_count": null,
   "id": "c5a34ae4",
   "metadata": {},
   "outputs": [],
   "source": [
    "import pandas as pd\n",
    "\n",
    "df = pd.read_csv(r'C:\\Users\\zhany\\AmazonWebScraperDataset.csv')\n",
    "\n",
    "print(df)"
   ]
  },
  {
   "cell_type": "code",
   "execution_count": null,
   "id": "33e19df7",
   "metadata": {},
   "outputs": [],
   "source": [
    "#Automate the scraping on a daily basis\n",
    "\n",
    "def check_price():\n",
    "    URL = 'https://www.amazon.com/dp/0596007973'\n",
    "\n",
    "    headers = {\n",
    "    \"User-Agent\": \"Mozilla/5.0 (Windows NT 10.0; Win64; x64) AppleWebKit/537.36 (KHTML, like Gecko) Chrome/139.0.0.0 Safari/537.36\",\n",
    "    \"Accept-Encoding\": \"gzip, deflate, br, zstd\",\n",
    "    \"Accept\": \"text/html,application/xhtml+xml,application/xml;q=0.9,image/avif,image/webp,image/apng,*/*;q=0.8,application/signed-exchange;v=b3;q=0.7\",\n",
    "    \"DNT\":\"1\",\n",
    "    \"Connection\":\"close\",\n",
    "    \"Upgrade-Insecure-Requests\":\"1\"}\n",
    "\n",
    "    page = requests.get(URL, headers = headers)\n",
    "    \n",
    "    soup1 = BeautifulSoup(page.content,\"html.parser\")\n",
    "    \n",
    "    soup2 = BeautifulSoup(soup1.prettify(),\"html.parser\")\n",
    "    \n",
    "    title = soup2.find(id = 'productTitle').get_text()\n",
    "\n",
    "    price = soup2.select_one(\"span.a-size-base.a-color-price\").get_text(strip=True)\n",
    "\n",
    "    price = price.strip()[1:]\n",
    "    \n",
    "    title = title.strip()\n",
    "    \n",
    "    import datetime\n",
    "    \n",
    "    today = datetime.date.today()\n",
    "    \n",
    "    import csv\n",
    "\n",
    "    header = ['Title', 'Price','Date']\n",
    "    \n",
    "    data = [title, price, today]\n",
    "    \n",
    "    with open('AmazonWebScraperDataset.csv', 'a+', newline='', encoding='UTF8') as f:\n",
    "        writer = csv.writer(f)\n",
    "        writer.writerow(data)"
   ]
  },
  {
   "cell_type": "code",
   "execution_count": null,
   "id": "8956a7a2",
   "metadata": {},
   "outputs": [],
   "source": [
    "#Use the time library to perform this automation\n",
    "\n",
    "while(True):\n",
    "    check_price()\n",
    "    time.sleep(86400)"
   ]
  },
  {
   "cell_type": "code",
   "execution_count": null,
   "id": "4a9379c8",
   "metadata": {},
   "outputs": [],
   "source": [
    "import pandas as pd\n",
    "\n",
    "df = pd.read_csv(r'C:\\Users\\zhany\\AmazonWebScraperDataset.csv')\n",
    "\n",
    "print(df)"
   ]
  }
 ],
 "metadata": {
  "kernelspec": {
   "display_name": "Python 3 (ipykernel)",
   "language": "python",
   "name": "python3"
  },
  "language_info": {
   "codemirror_mode": {
    "name": "ipython",
    "version": 3
   },
   "file_extension": ".py",
   "mimetype": "text/x-python",
   "name": "python",
   "nbconvert_exporter": "python",
   "pygments_lexer": "ipython3",
   "version": "3.9.12"
  }
 },
 "nbformat": 4,
 "nbformat_minor": 5
}
